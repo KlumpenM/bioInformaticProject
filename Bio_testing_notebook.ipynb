{
 "cells": [
  {
   "cell_type": "code",
   "execution_count": 54,
   "metadata": {},
   "outputs": [
    {
     "name": "stdout",
     "output_type": "stream",
     "text": [
      "3.12.2\n"
     ]
    }
   ],
   "source": [
    "from platform import python_version\n",
    "\n",
    "print(python_version())"
   ]
  },
  {
   "cell_type": "code",
   "execution_count": 55,
   "metadata": {},
   "outputs": [],
   "source": [
    "# Importing the required libraries\n",
    "import time\n",
    "from functools import cmp_to_key\n",
    "\n",
    "# Changing the recursion depth, since this is required for testing\n",
    "import sys\n",
    "sys.setrecursionlimit(100000)"
   ]
  },
  {
   "cell_type": "code",
   "execution_count": 56,
   "metadata": {},
   "outputs": [],
   "source": [
    "# Standard construction of the suffix array\n",
    "def construct_suffix_array(text, sorting_func):\n",
    "    # Generate all suffixes\n",
    "    suffixes = [text[i:] for i in range(len(text))]\n",
    "    print(f'suffixes in construct_suffix_array()\\n {suffixes}')\n",
    "    \n",
    "    # Sort the suffixes using ternary split quicksort\n",
    "    sorted_suffixes = sorting_func(suffixes)\n",
    "    print(f'sorted_suffixes in construct_suffix_array()\\n {sorted_suffixes}')\n",
    "\n",
    "    # Construct the suffix array\n",
    "    suffix_array = [len(text) - len(suffix) for suffix in sorted_suffixes]\n",
    "\n",
    "    return suffix_array"
   ]
  },
  {
   "cell_type": "code",
   "execution_count": 57,
   "metadata": {},
   "outputs": [],
   "source": [
    "# Custom construction of the suffix array\n",
    "def construct_suffix_array_custom(text, sorting_algorithm=\"insertion\"):\n",
    "    # Generate all suffixes\n",
    "    suffixes = [text[i:] for i in range(len(text))]\n",
    "\n",
    "    \n",
    "    # Sort suffixes using bucket sort\n",
    "    sorted_suffixes = bucket_sort_suffixes(suffixes, sorting_algorithm)\n",
    "\n",
    "    # Construct the suffix array\n",
    "    suffix_array = [len(text) - len(suffix) for suffix in sorted_suffixes]\n",
    "\n",
    "    return suffix_array\n"
   ]
  },
  {
   "cell_type": "markdown",
   "metadata": {},
   "source": [
    "# Different sorting methods"
   ]
  },
  {
   "cell_type": "markdown",
   "metadata": {},
   "source": [
    "## Prefix Doubling"
   ]
  },
  {
   "cell_type": "code",
   "execution_count": 58,
   "metadata": {},
   "outputs": [],
   "source": [
    "def prefix_doubling(suffixes):\n",
    "    suffix_to_index = {s: i for i, s in enumerate(suffixes)}\n",
    "    # First round: Sort them by their first character\n",
    "    sorted_suffixes = sorted(suffixes, key=lambda x: x[0])\n",
    "    \n",
    "    # Assign ranks\n",
    "    ranks = {}\n",
    "    rank = 0\n",
    "    \n",
    "    for s in sorted_suffixes:\n",
    "        first_char = s[0]\n",
    "        if first_char not in ranks:\n",
    "            ranks[first_char] = rank\n",
    "            rank += 1  # Increase rank only when a new first character is encountered\n",
    "    \n",
    "    # Map each string to its rank\n",
    "    ranked_strings = {s: ranks[s[0]] for s in sorted_suffixes}\n",
    "    R = [ranked_strings[s] for s in suffixes]\n",
    "\n",
    "    is_distinct_ranks = False\n",
    "    doubling = 1\n",
    "    \n",
    "    while not is_distinct_ranks:\n",
    "        tuple_ranks = {}\n",
    "        for i, s in enumerate(suffixes):\n",
    "            try:\n",
    "                secondary_tuple_rank = R[i + doubling]\n",
    "            except:\n",
    "                secondary_tuple_rank = -1\n",
    "            tuple_ranks[s] = (R[i], secondary_tuple_rank)\n",
    "        sorted_suffixes = {k: v for k, v in sorted(tuple_ranks.items(), key=lambda item: item[1])}\n",
    "        \n",
    "        # Assign ranks\n",
    "        ranks = {}\n",
    "        rank = 0\n",
    "        \n",
    "        for suffix, tuple_val in sorted_suffixes.items():\n",
    "            if tuple_val not in ranks:\n",
    "                ranks[tuple_val] = rank\n",
    "                rank += 1  # Increase rank only when a new first character is encountered\n",
    "\n",
    "        # Map each string to its rank\n",
    "        ranked_strings = {suffix: ranks[tuple_val] for suffix, tuple_val in sorted_suffixes.items()}\n",
    "        R = [ranked_strings[s] for s in suffixes]\n",
    "        if len(R) == len(set(R)):\n",
    "            break\n",
    "        doubling *= 2\n",
    "    print(doubling)\n",
    "    return R"
   ]
  },
  {
   "cell_type": "code",
   "execution_count": 59,
   "metadata": {},
   "outputs": [
    {
     "name": "stdout",
     "output_type": "stream",
     "text": [
      "4\n"
     ]
    },
    {
     "data": {
      "text/plain": [
       "[4, 3, 10, 8, 2, 9, 7, 1, 6, 5, 0]"
      ]
     },
     "execution_count": 59,
     "metadata": {},
     "output_type": "execute_result"
    }
   ],
   "source": [
    "# Test prefix_doubling()\n",
    "text = 'mississippi'\n",
    "suffixes = [text[i:] for i in range(len(text))]\n",
    "prefix_doubling(suffixes)"
   ]
  },
  {
   "cell_type": "markdown",
   "metadata": {},
   "source": [
    "## Ternary Split Quick Sort"
   ]
  },
  {
   "cell_type": "code",
   "execution_count": 60,
   "metadata": {},
   "outputs": [],
   "source": [
    "def ternary_split_quicksort(suffixes, depth=0):\n",
    "    if len(suffixes) <= 1:\n",
    "        return suffixes\n",
    "\n",
    "    # Determine the pivot character at the current depth\n",
    "    pivot = suffixes[len(suffixes) // 2][depth] if depth < len(suffixes[len(suffixes) // 2]) else ''\n",
    "\n",
    "    less = []\n",
    "    equal = []\n",
    "    greater = []\n",
    "\n",
    "    for suffix in suffixes:\n",
    "        if depth < len(suffix):\n",
    "            char = suffix[depth]\n",
    "            if char < pivot:\n",
    "                less.append(suffix)\n",
    "            elif char > pivot:\n",
    "                greater.append(suffix)\n",
    "            else:\n",
    "                equal.append(suffix)\n",
    "        else:\n",
    "            # If depth exceeds the length of the suffix, consider it as 'less'\n",
    "            less.append(suffix)\n",
    "\n",
    "    # Recursively sort the partitions\n",
    "    less_sorted = ternary_split_quicksort(less, depth)\n",
    "    equal_sorted = ternary_split_quicksort(equal, depth + 1)\n",
    "    greater_sorted = ternary_split_quicksort(greater, depth)\n",
    "\n",
    "    return less_sorted + equal_sorted + greater_sorted"
   ]
  },
  {
   "cell_type": "markdown",
   "metadata": {},
   "source": [
    "## Bucket Sort"
   ]
  },
  {
   "cell_type": "code",
   "execution_count": 61,
   "metadata": {},
   "outputs": [],
   "source": [
    "def bucket_sort_suffixes(suffixes, sorting_algorithm=\"insertion\"):\n",
    "    if len(suffixes) == 0:\n",
    "        return suffixes\n",
    "    \n",
    "    # Determine the number of buckets\n",
    "    num_buckets = len(suffixes)\n",
    "    max_suffix = max(suffixes)\n",
    "    min_suffix = min(suffixes)\n",
    "\n",
    "    # Create buckets and distribute the elements\n",
    "    buckets = [[] for _ in range(num_buckets)]\n",
    "    for suffix in suffixes:\n",
    "        index = int((ord(suffix[0]) - ord(min_suffix[0])) / (ord(max_suffix[0]) - ord(min_suffix[0]) + 1) * num_buckets)\n",
    "        buckets[index].append(suffix)\n",
    "\n",
    "    # Sort each bucket using the specified sorting algorithm\n",
    "    if sorting_algorithm == \"insertion\":\n",
    "        for i in range(num_buckets):\n",
    "            buckets[i] = insertion_sort_suffixes(buckets[i])\n",
    "    elif sorting_algorithm == \"selection\":\n",
    "        for i in range(num_buckets):\n",
    "            buckets[i] = selection_sort_suffixes(buckets[i])\n",
    "    else:\n",
    "        raise ValueError(\"Invalid sorting algorithm or not implemented yet\")\n",
    "\n",
    "    sorted_suffixes = []\n",
    "    for bucket in buckets:\n",
    "        sorted_suffixes.extend(bucket)\n",
    "\n",
    "    return sorted_suffixes"
   ]
  },
  {
   "cell_type": "markdown",
   "metadata": {},
   "source": [
    "### Insertion and Selection sort (for the use in bucket sort)"
   ]
  },
  {
   "cell_type": "code",
   "execution_count": 62,
   "metadata": {},
   "outputs": [],
   "source": [
    "def insertion_sort_suffixes(arr):\n",
    "    for i in range(1, len(arr)):\n",
    "        key = arr[i]\n",
    "        j = i - 1\n",
    "        while j >= 0 and arr[j] > key:\n",
    "            arr[j + 1] = arr[j]\n",
    "            j -= 1\n",
    "        arr[j + 1] = key\n",
    "    return arr\n",
    "\n",
    "\n",
    "\n",
    "def selection_sort_suffixes(arr):\n",
    "    for i in range(len(arr)):\n",
    "        min_idx = i\n",
    "        for j in range(i + 1, len(arr)):\n",
    "            if arr[j] < arr[min_idx]:\n",
    "                min_idx = j\n",
    "        arr[i], arr[min_idx] = arr[min_idx], arr[i]\n",
    "    return arr"
   ]
  },
  {
   "cell_type": "markdown",
   "metadata": {},
   "source": [
    "## Naive implementation (built in)"
   ]
  },
  {
   "cell_type": "code",
   "execution_count": 63,
   "metadata": {},
   "outputs": [],
   "source": [
    "def cmp_suffix(i,j):\n",
    "    if (i < j):\n",
    "        # Suffix i is lexicographically less than suffix j\n",
    "        return -1\n",
    "    if (i == j):\n",
    "        # Suffix i and j are equal\n",
    "        return 0\n",
    "    else:\n",
    "        # Suffix i is lexicographically greater than suffix j\n",
    "        return 1\n",
    "    \n",
    "def suffixes(s):\n",
    "    arr = []\n",
    "    for i in range(len(s)):\n",
    "        suffix = s[i:]\n",
    "        arr.append(suffix)\n",
    "    return arr"
   ]
  },
  {
   "cell_type": "markdown",
   "metadata": {},
   "source": [
    "# Testing (To check if it works)"
   ]
  },
  {
   "cell_type": "code",
   "execution_count": 64,
   "metadata": {},
   "outputs": [
    {
     "name": "stdout",
     "output_type": "stream",
     "text": [
      "Suffix array using built in sorting function: ['a', 'ana', 'anana', 'banana', 'na', 'nana']\n",
      "suffixes in construct_suffix_array()\n",
      " ['banana', 'anana', 'nana', 'ana', 'na', 'a']\n",
      "2\n",
      "sorted_suffixes in construct_suffix_array()\n",
      " [3, 2, 5, 1, 4, 0]\n"
     ]
    },
    {
     "ename": "TypeError",
     "evalue": "object of type 'int' has no len()",
     "output_type": "error",
     "traceback": [
      "\u001b[1;31m---------------------------------------------------------------------------\u001b[0m",
      "\u001b[1;31mTypeError\u001b[0m                                 Traceback (most recent call last)",
      "Cell \u001b[1;32mIn[64], line 6\u001b[0m\n\u001b[0;32m      3\u001b[0m suffix_array_builtin \u001b[38;5;241m=\u001b[39m \u001b[38;5;28msorted\u001b[39m(suffixes(text), key \u001b[38;5;241m=\u001b[39m cmp_to_key(cmp_suffix))\n\u001b[0;32m      4\u001b[0m \u001b[38;5;28mprint\u001b[39m(\u001b[38;5;124m\"\u001b[39m\u001b[38;5;124mSuffix array using built in sorting function:\u001b[39m\u001b[38;5;124m\"\u001b[39m, suffix_array_builtin)\n\u001b[1;32m----> 6\u001b[0m suffix_array_prefix_doubling \u001b[38;5;241m=\u001b[39m construct_suffix_array(text, prefix_doubling)\n\u001b[0;32m      7\u001b[0m \u001b[38;5;28mprint\u001b[39m(\u001b[38;5;124m\"\u001b[39m\u001b[38;5;124mSuffix array using prefix doubling:\u001b[39m\u001b[38;5;124m\"\u001b[39m, suffix_array_prefix_doubling)\n\u001b[0;32m      9\u001b[0m suffix_array_quick_sort \u001b[38;5;241m=\u001b[39m construct_suffix_array(text, ternary_split_quicksort)\n",
      "Cell \u001b[1;32mIn[56], line 12\u001b[0m, in \u001b[0;36mconstruct_suffix_array\u001b[1;34m(text, sorting_func)\u001b[0m\n\u001b[0;32m      9\u001b[0m \u001b[38;5;28mprint\u001b[39m(\u001b[38;5;124mf\u001b[39m\u001b[38;5;124m'\u001b[39m\u001b[38;5;124msorted_suffixes in construct_suffix_array()\u001b[39m\u001b[38;5;130;01m\\n\u001b[39;00m\u001b[38;5;124m \u001b[39m\u001b[38;5;132;01m{\u001b[39;00msorted_suffixes\u001b[38;5;132;01m}\u001b[39;00m\u001b[38;5;124m'\u001b[39m)\n\u001b[0;32m     11\u001b[0m \u001b[38;5;66;03m# Construct the suffix array\u001b[39;00m\n\u001b[1;32m---> 12\u001b[0m suffix_array \u001b[38;5;241m=\u001b[39m [\u001b[38;5;28mlen\u001b[39m(text) \u001b[38;5;241m-\u001b[39m \u001b[38;5;28mlen\u001b[39m(suffix) \u001b[38;5;28;01mfor\u001b[39;00m suffix \u001b[38;5;129;01min\u001b[39;00m sorted_suffixes]\n\u001b[0;32m     14\u001b[0m \u001b[38;5;28;01mreturn\u001b[39;00m suffix_array\n",
      "\u001b[1;31mTypeError\u001b[0m: object of type 'int' has no len()"
     ]
    }
   ],
   "source": [
    "# Testing \n",
    "text = \"banana\"\n",
    "suffix_array_builtin = sorted(suffixes(text), key = cmp_to_key(cmp_suffix))\n",
    "print(\"Suffix array using built in sorting function:\", suffix_array_builtin)\n",
    "\n",
    "suffix_array_prefix_doubling = construct_suffix_array(text, prefix_doubling)\n",
    "print(\"Suffix array using prefix doubling:\", suffix_array_prefix_doubling)\n",
    "\n",
    "suffix_array_quick_sort = construct_suffix_array(text, ternary_split_quicksort)\n",
    "print(\"Suffix array using ternary split quicksort:\", suffix_array_quick_sort)\n",
    "\n",
    "suffix_array_insertion = construct_suffix_array_custom(text, sorting_algorithm=\"insertion\")\n",
    "print(\"Suffix array using insertion sort:\", suffix_array_insertion)\n",
    "\n",
    "suffix_array_selection = construct_suffix_array_custom(text, sorting_algorithm=\"selection\")\n",
    "print(\"Suffix array using selection sort:\", suffix_array_selection)"
   ]
  },
  {
   "cell_type": "markdown",
   "metadata": {},
   "source": [
    "# Testing running time with random genetics string"
   ]
  },
  {
   "cell_type": "code",
   "execution_count": null,
   "metadata": {},
   "outputs": [],
   "source": [
    "######################################\n",
    "#### REAL TESTING FOR REAL MEN #######\n",
    "#### With random genetics string #####\n",
    "######################################\n",
    "x = 'gactaagttaacacacgcatcggccgttccgacatccaactggttcctccatcggggccaatttccattctactgagggattccttgaggatattgcgagcgcgcgtggacattagcggtgtgtctgaaccacgtcttagacgtcaatatctgcgcaatcaagaaatgatcgtccaactgaggatgcaccatcttgtataacgcaatagacggactcatggtaagtgtcagcgtagtatcacagaactatcagagatctaaatcctcagttccttgtgagttggctaagaccagcgccggtactccggggggccgtatcttaggtgtaaccccgaagttcgccccagcttaagcagccacttagatgagggcctcgctgccagacgtcctcgctgggggccaatttataaccgactcagttacatccgcggggagttcgttgaaacaccggaggccgctgggtagtctttgtcgtacgtactttcggagcttccattcgggtgctcgacacagcgcgcttaaactcgctgttcataacacctggatatacgtgcgtcgagctgctattcttccatatacgatagggctagacacatcgcttaagtggccatcccttagacttctttacctgtgcgttagcttcattcggtttgcaaacgcaggcagtttgagccgtgaactggacgagaacgcgtggtgtctggcatattctttccggttcggaatagagggtcttttgatcgattcctgggccgtgtggctcgaaactttctatggagccgccagcagtaaagatgcatttacttgtgatatgggcaatccgcttctcgttggatccaggcaataaaaaagttccctcccgattcagtattcggactgagataggccatgaggtgatgttcagacttctaggatcgcggacgctgacccgcatattcgaccacggagacggcgtaatccgtgaatgtccttatttcgcactgttacacgtgctgagaggtgttgccgccaaaaaccgctgggttcaacagccggcaccggtttcgacatcgtttttcagcggcctcactaattattgtacccgagcaggaacagattgcagcgggctgccacgcgaaccaacctggagggtggtgtgggcggttcaatgacgtagcctctatcaagactgaaaggaaagtatgtacgatctctagccagacacgccgttatacttgagttaaggcttcaccctctcgagaacccgcgatgattggtatcgcgccgttcaattctctataaagattcttattcacagccccaggccgtggtacgtcaagcggatgcggaataaaaccacacaaaggattttccggggtccgagttcgtatcacgtatggtagaggttagaaatattttgtgaattgcaattctggcgataatcgttgcagtctgatggcggcgtgattagggtcggcatccctcgcagaaatgggagggcgcctcctgaccgtctaacggttatctgaaacggatgttagcgcgaagcatctaatatatcttcgggtacgactggaggtcaagtgggccgactggcggctttaactgcttaggcatgtatagccattgccaagaaatgccaggctgccaggggaggacctcagagagcggaccgtttgttatcccagagaggaggggacagggacacttctccaaattcgtccggttcataaagaccacttttatacatatggctctatcggttaggtgagggaggctgatactgtttgcgatcgtacatctgacctgtgagttcccgttaggaattatccgcttgtagattttccggacagacacaaaatgtataatgtccgtactccatagtaaaaccctatcattacttcatggagccgggcccgagtttccctgcgagaagccttgacctcctgagattagcgatccatcctaatatgagatcccaagcctgacatatggaccagattcggtcactgactctgatgttcacatctaatgagtaggttacgccccgagacacaactctaacaggacccacctaaacgtcgtacggttggacctggttcatacagctagtgtctctcaagggctcatggacaaccccgcaggataaagtatgtgtccaatttatcgcacggtcgttcttttcaataaagcccattagatctgaattgtttctgactttatcatagtgcaagtggatgatgacgagtggggccctcgacgataatagatgcctgctactcatacgccggtggaggcgagtgaactgacccggtcgcgtataggctgcggtagaggtttcttgaatgtagccacaaatgcaatgacatcatctctctagatcacgtcagctgaatacggaagtcgatgaaccgccaaagattcctacttcaaatcgtagcctatttttagttccttgggtaagacagtcgtgaccgaaagcaggtatatgcatctggtatccatttgccacgcacctagcaccccgctatagtttaatcgctcaattaccctcctagaatcgaagtctgagaaggctaggttagtaaattggccgctgtaggcggtgcatgcgcacaggcatttgcctatcgctaactgaggtccagacagttatacagcagactcataataaccgcacccaccgcagtagccctatctatctaccccattcttttcgttgaaggttccgattctgccttgtagccggagacgacatggcttcctgacttgctataataacgtcgccgagggacatgacccgggactctgagggctcaatacttgtgagtcgtccgccagtacggacatgaggattctacaaatcctgataaaagatgtacgcgtcgatgccccccgctaagcgcatagtgatctgtactctaaccaagtaaactgtgcagcatcgtgatcaccccggaaactgcgttccgcgtatgtgcctaaaggcttcgcagagatatcgccatcgctttccggcgggggtctccggccttaacggggcttcagaaaaatgcaatttctctatcgttgaacgccgggtgttccaaagaattcggaatcaaagcctgcgaggacaagggtttacctataaagccaccaggactaatcgattggcgtgacgctgaaaagttcgaaggtgcaggcttcgtctcgcattaggtgtcatcaagtggaattaaaaggcggggcgggcgtcaaagtcgttgggctcctacatactgcaagtattacggtggttggggtaagcctcactatacggcctgtcggccgcctcttactaggcattccttccttaaagtacaccttattcgagcacacacacccgtactacacccgaggtctgtctgtacagacatggtgccatttgctggtgtaatacggcccactacatagggacaaggcatcctccgcgagtctaccaaatactgcgatttctatcctatggaatttcggacggtcgatgggcggaacaagaaggaagatgcctacacaacatcaataggtccaattcaattgctctctcatcgctatgagtgtggttaaaggtctcctatttagaattagaaggcacgggcagtatttccctctgcgatttcgtcacgcttaaagtcatcccgatatgttgtacgagtctagagtaatccgcgcattgtaatgcttacacttgagtcagaagggaggtgtactaggtcatatttctccacgattgttccccgtgaaggcgtagttaccaaatatgtaatagataatgtcatagggggactgtcctctaagtaccctcttctaacgcataaccatgagtgattctggccacaagatatctctgcgaggtcagtcagtaattccatcaattacggtgtgcaacaagagacagacactaatagtttaggtctactatgtcgggagggatttctttggagcctgtgggcaattcgtgaaatggacctaactaagcttacttgcagaggcattgttcctgagctccccttaattaattcaaaccagagatgacagttgtacttaacgtagaatcagcagttgaaggatacaatcttttggaagtagttactagttgccacgatgcagtctgaagtttattgagcgaacggacactagcggatatgtataagacgtccaccgtcgcagcttcgcacttattaattaaggaggcgcttgacattttaacgagtattctctaccctaaaactctgttagaatcgcgagcctaagcaaaaagcggcgggatctatcgaaggtaatacactcataatgaagtagtccgggtgcgggggacacaggccacatcctaccgagccatacctgtgcatcatagtagacagagtgactgataagtgatcagtcattagtttgccactacttgtcttactcgacccaggagcgaatactcggagctcggtagcgctctttcatgattttggacggcacatggcgagttaagctaggatcatgcttcgtaccacccccgctatgagatctcgtcaattgggactactgtctttagtcagctcggataactaaaagtggggacaatgccggatgtggcttaaggctacgatcgtatccagggatgtcaggtctcctgtcataatgcgatcagagtacagtctcatgctaacgagggacgggaaccaagttcaatgctggcgtattggcctcacccccagaggtgtcccaggatgtgtatctataaatttcagactcactcgaaagaacttgatactcttgccgtggcggtcaagctttgcgatcctactcccctgtgataatgcctacgtccgcctaagctgctggtgcgatggactcccgacggctcggtactactgatagcgctatatcgacagtgttaataagtctgagccccttcatagataattccaggtcaccagcgagaacgatagcggccgagtccccatgacatcaacgtgggctcctctgtgcctgcgaagtaagcctagtatgctgtcggtgtattacgaaccgatttggagctcagttaagttccctagtgtgatttcacttagcaccttcgaacgctctccacaccaattatggtagttgtttcagtagtttcactagattccatgagggatctgcggtcagtagcaggatcggaaatcacccgtcatgtttaagcctataaggacgttcagcggtttgggatgcttaatgaggttatacgacacatgattcctggtctgccgtagtgtacaacataagtaacttgttacgctctccaccttttagaatattgtcaggccccaacgggataacggaacgtggaacagatccgtagcaaagaggcaatcttccgcgaatgtgaagcgaacccactcgcatgatacaattctatgggcataccattcccaaacattaagtataacgctggatttaggggaacaaggtctgacactgagtgaacagcgccagacaattaaaacggatgaaacgacaattaactagtgctaacagcagatatagattagggatactctttttgtgccacccatcgtaatatccaaaactctccggttcaagccctttcaactactttccgctcccgccgtgccaaaacaacagggcggtgattacgaacatgattatgttccgacgcttcgaagaactcaaagttagctgtagctagttcgcccagtcccgaaacagtcggcccttgagctcgagcgaccagtatgtggcaaaattccgaactatagtactactctgtcgttaacattttcctataaatcgtgaagcttagctccccttttagcggccgtaacgagaataatagttcaagaaataccgcattcgcgtgtcatctggttcgcgccctcgcgtgttcgacagccagacacaaatactccagtagggagcgacgtcagagtcggatcccagagtcatctcgtgaagctgtcagtgctggacaggtacagtcaagacaattaaatcgtctagagcctacccagattggagtatactggtgtgccaataagggcttgcctacaccctcgcgagaacagagtgtgtaacttcgaaatgccgtcgagcccttataaaaggattgtctaggattttccgagtctcgatctggccgattgcaaagtgacgcctgtatgaggcgcgttatacactaacatgcctgagataaagaatacttcgggatgccgcgcgtctgatggtaaggtagcgatcgggaggcctaccggaccgaatgaaccgtatgaataactaaatccccatctgattcaacggtaaactcattatgcagccgagggggcgtcacattttttcgataaactcgtacgtggctccgtggaagctgtctcaggatcctggtagaatctcccccctcctcttaccctaaaccgggagatggcccctataataagggactatgtaactatcaagagtttgaagtggtacccaaactcatgcccatcccttgtgtacaactaagggtattacacatgcatatgccactagaaatacgtcgatgattcgtcgagtagagtttcttgccttgggaacttgcgcttggattgtctgtcacgcgggacgtgtctttgcccatgacaggtctgcgtgacttagatacgatcttctagcggttgcacgtgtaccgtaatttgatatacgtggccacatacgttcgtaactcatgtctggacgggattataaaagggtaggacactatctcgatccacgggtagtgcagcaacacgatggtcattaaggatggcccggacgacgttgcaaaggcgccacaccacgctcgctcttaactagagatcggcagctgagaccgcgtacaggatattattaagcctgactgagacaaagcagcgatggacctagcggtgatttgacccaagcatatagcgcatgtttacagacgccaccacccatactattacaaggtctcctcactttgaaacccaacacgccctttctagacatccagagtcgattccaaacggtaaaaagggaggggaaccttaacagctacgaccaactgcgatgagcgactccagaaagcatcagttccccacgatattgaatttgagtatatgttcccatggacaggttacaatagaccttactaacaagcgctttatatcacctcagcccatttcttctctccctaccgataggctcccgtctatggtccgccagtgccttgttcgaagtaggtaccgctatttccgcccggcgagtattactcaggaacctaccttacagatgtcacggtgccatcaagccacagcatggcccaagagcttttgtcgtcaggccgtgactttacgctactccctttatgagcgcatatactcgagaatgtcgcatccgctcgtctggataccgaggttccgtgattctctttattgcaagggcagagaatgtggcatgatcgcccctgatcgacatagcctccccattcggtacttcaccgctctacgtaatctcgtgcatgactcaggcggaaattgacgagcacaaccagagtgtatcctggagattcacggactatgcgcggctgttataggatgagtacgcaccttcaaccagtcgaatgttaaaccggttgcgacagccctgtctagcgggttataaaagcttgttggatacggaacccccctcaggtatattaccccccaaagatacgcagtttcgaattacggtcggtgatctaattccgcaccccggtgcgtagggcgcagcggcagatcccaaatctcttcgtgaggccacagattataggctaacttgctctataatcctgcccgctgtctctagaccaaacgatgacttatttagcgagtccgcactagcagggccctcgctttccgcaaaaccacggcgcacgtaaagggtagtcgggagccaggcgagtctctaccacatctgaatggagctaggggtagccgacgttgtcgactttcacaaaatcgcacgtttctcttgacagtatttggtctcgcttgcggcttggatattaccctgcatctatgagacctgcgaataacgcgggaaatgtgcccacaacgcccaacgttctctacaccctctcggcaaccgcccgactgggagtcatcagcttgtagagtcgatgagttatcggactacataggccttggcacattttaaaattgagggttagttcaagtcccgcaaccatcttagaccacgtcactattatgcgtagcgagcatacgcggcaatgatcccgtcagtaacagtcgtgaataacgcagcggaatcacgagcggcatcgccatctatgtactatgagtggaaaacggtgcggcacgtatttccctaggtatatacttagtcaaccgctatggtttacgtaaatggggttgcgcaggacatcgtaagatgactaaccatcccaccggcatatggagcctttgtttaaagcatgttggttgtcgtatggcagaactctccccgccgtagcccctgatatgcaacgcatgattgactacaacataagtcagaccacctgacatcaaacagcgcccaacgattcttgtgaacaatcccctgttcccacaaagggaagcaccgcgcagggatgcataaccaatacgctgtccggatagacttctacgtttgctacggggccttttaggttatagccattattactgtgatgtgcggaaggtgcagtagaagttggtcatagacttagattggagagtacatcgaccgaaagacttcaaccagtgtgcaggtagttttagtcgacgtaagttagttcagagacttcaatcaccttaacatagaccatataagagattaggttcttcaaattgccttcggtgattgaggcgtcacggcctgatcgatgtgacccgttgcttaaccgccgacactcaattcaccactcgtctcggactcttctgaaacgcgtacctgcgacggacccatgctcatgaaacacacaaatccggttatgtttttctccttcctaactagtatcacctgctaaaactaaacgtatcattccgccgtgcgattaagaagctgaaatgaagtggcgtaacgagtgaataacttctttaaagtaaggagcctgggtcgagatcaggaccacgatgcgggtccagacgcagccaggatcttgcgacgtataacgcctttaagtctaggctgttggactccacttccatcctgtagacgcgcattcttggattgaagctggaggtcataactcgtattgaaggctcttgccccctcttgccgcacagaagaaagggccctagtatttggattagaattgttgcgttaatacactcgtgaaaactgcgatagctcctctattagtcggcggcgcgcgaaaaaaactcgttacggcttcctcagagacttcggacacacctcagccaccggtttgttcgtgcacgtgacacagggtcccgctgggttcgagatcctattacatacataacttattatgccctaccttaggccgctcagtaggctgggcttaccgcaataacccttgttagtgctctaggaagggtatatagcgagaactgtagactcctgctcggtattgtaagtcgggaaacttgtcgaaggcagtatccggattttagtgggcctcggcccgtgtttcccatttcaactaaagacggagccggagctaacgtagccgcgtgcatcctttattacgtgggagcatcccgatgcgatctatagtagtcggatagaatcgtaagattctagtcaccatgcgtggagattaggatagcccacaaccccggcactgattcaaatgtcaaaagatttcgtttccattgtaggcttggattcacgaccgccctaaacatttagcattcagggccggggcgccgacaacaatcgttagtcagaagggaacctgggcctacgactccaggttcgagaccgggtccttgggaagagcgttttcctgtggaaaatagaaatgatc'\n",
    "start_time_builtin = time.time()\n",
    "suffix_array_builtin = sorted(suffixes(x), key = cmp_to_key(cmp_suffix))\n",
    "end_time_builtin = time.time()\n",
    "running_time_builtin = end_time_builtin - start_time_builtin\n",
    "print(f'Running time with string is {round(running_time_builtin, 4)} seconds using built in sorting function')\n",
    "\n",
    "start_time_prefix_doubling = time.time()\n",
    "suffix_array_prefix_doubling = construct_suffix_array(x, prefix_doubling)\n",
    "end_time_prefix_doubling = time.time()\n",
    "running_time_prefix_doubling = end_time_prefix_doubling - start_time_prefix_doubling\n",
    "print(f'Running time with string is {round(running_time_prefix_doubling, 4)} seconds using prefix doubling')\n",
    "\n",
    "start_time_quick_sort = time.time()\n",
    "suffix_array_quick_sort = construct_suffix_array(x, ternary_split_quicksort)\n",
    "end_time_quick_sort = time.time()\n",
    "running_time_quick_sort = end_time_quick_sort - start_time_quick_sort\n",
    "print(f'Running time with string is {round(running_time_quick_sort, 4)} seconds using ternary split quicksort')\n",
    "\n",
    "start_time_insertion = time.time()\n",
    "suffix_array_insertion = construct_suffix_array_custom(x, sorting_algorithm=\"insertion\")\n",
    "end_time_insertion = time.time()\n",
    "running_time_insertion = end_time_insertion - start_time_insertion\n",
    "print(f'Running time with string is {round(running_time_insertion, 4)} seconds using insertion sort')\n",
    "\n",
    "start_time_selection = time.time()\n",
    "suffix_array_selection = construct_suffix_array_custom(x, sorting_algorithm=\"selection\")\n",
    "end_time_selection = time.time()\n",
    "running_time_selection = end_time_selection - start_time_selection\n",
    "print(f'Running time with string is {round(running_time_selection, 4)} seconds using selection sort')\n"
   ]
  },
  {
   "cell_type": "markdown",
   "metadata": {},
   "source": [
    "# Testing (With a string of a's)"
   ]
  },
  {
   "cell_type": "code",
   "execution_count": null,
   "metadata": {},
   "outputs": [],
   "source": [
    "######################################\n",
    "#### REAL TESTING FOR REAL MEN #######\n",
    "#### With a string of a's      #######\n",
    "######################################\n",
    "x = 'a'*10000\n",
    "start_time_builtin = time.time()\n",
    "suffix_array_builtin = sorted(suffixes(x), key = cmp_to_key(cmp_suffix))\n",
    "end_time_builtin = time.time()\n",
    "running_time_builtin = end_time_builtin - start_time_builtin\n",
    "print(f'Running time with string is {round(running_time_builtin, 4)} seconds using built in sorting function')\n",
    "\n",
    "start_time_prefix_doubling = time.time()\n",
    "suffix_array_prefix_doubling = construct_suffix_array(x, prefix_doubling)\n",
    "end_time_prefix_doubling = time.time()\n",
    "running_time_prefix_doubling = end_time_prefix_doubling - start_time_prefix_doubling\n",
    "print(f'Running time with string is {round(running_time_prefix_doubling, 4)} seconds using prefix doubling')\n",
    "\n",
    "start_time_quick_sort = time.time()\n",
    "suffix_array_quick_sort = construct_suffix_array(x, ternary_split_quicksort)\n",
    "end_time_quick_sort = time.time()\n",
    "running_time_quick_sort = end_time_quick_sort - start_time_quick_sort\n",
    "print(f'Running time with string is {round(running_time_quick_sort, 4)} seconds using ternary split quicksort')\n",
    "\n",
    "start_time_insertion = time.time()\n",
    "suffix_array_insertion = construct_suffix_array_custom(x, sorting_algorithm=\"insertion\")\n",
    "end_time_insertion = time.time()\n",
    "running_time_insertion = end_time_insertion - start_time_insertion\n",
    "print(f'Running time with string is {round(running_time_insertion, 4)} seconds using insertion sort')\n",
    "\n",
    "start_time_selection = time.time()\n",
    "suffix_array_selection = construct_suffix_array_custom(x, sorting_algorithm=\"selection\")\n",
    "end_time_selection = time.time()\n",
    "running_time_selection = end_time_selection - start_time_selection\n",
    "print(f'Running time with string is {round(running_time_selection, 4)} seconds using selection sort')\n"
   ]
  }
 ],
 "metadata": {
  "kernelspec": {
   "display_name": "Python 3 (ipykernel)",
   "language": "python",
   "name": "python3"
  },
  "language_info": {
   "codemirror_mode": {
    "name": "ipython",
    "version": 3
   },
   "file_extension": ".py",
   "mimetype": "text/x-python",
   "name": "python",
   "nbconvert_exporter": "python",
   "pygments_lexer": "ipython3",
   "version": "3.12.2"
  }
 },
 "nbformat": 4,
 "nbformat_minor": 4
}
